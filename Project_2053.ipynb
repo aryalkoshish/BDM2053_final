{
  "cells": [
    {
      "cell_type": "code",
      "execution_count": 2,
      "metadata": {
        "id": "-uveqleP_Sv7"
      },
      "outputs": [],
      "source": [
        "import os\n",
        "import numpy as np\n",
        "import pandas as pd\n",
        "import random\n",
        "import matplotlib.pyplot as plt\n",
        "import seaborn as sns\n",
        "from scipy import stats"
      ]
    },
    {
      "cell_type": "code",
      "execution_count": 3,
      "metadata": {
        "id": "Ae5DOB5OBmwP"
      },
      "outputs": [],
      "source": [
        "df = pd.read_csv(\"tips.csv\", encoding='latin1')"
      ]
    },
    {
      "cell_type": "code",
      "execution_count": 4,
      "metadata": {
        "colab": {
          "base_uri": "https://localhost:8080/",
          "height": 424
        },
        "id": "vwxcH5a5_slT",
        "outputId": "e246c244-3f65-407b-fe59-f15a72dcd918"
      },
      "outputs": [
        {
          "data": {
            "text/html": [
              "<div>\n",
              "<style scoped>\n",
              "    .dataframe tbody tr th:only-of-type {\n",
              "        vertical-align: middle;\n",
              "    }\n",
              "\n",
              "    .dataframe tbody tr th {\n",
              "        vertical-align: top;\n",
              "    }\n",
              "\n",
              "    .dataframe thead th {\n",
              "        text-align: right;\n",
              "    }\n",
              "</style>\n",
              "<table border=\"1\" class=\"dataframe\">\n",
              "  <thead>\n",
              "    <tr style=\"text-align: right;\">\n",
              "      <th></th>\n",
              "      <th>UID</th>\n",
              "      <th>ID</th>\n",
              "      <th>Tipster</th>\n",
              "      <th>Date</th>\n",
              "      <th>Track</th>\n",
              "      <th>Horse</th>\n",
              "      <th>Bet Type</th>\n",
              "      <th>Odds</th>\n",
              "      <th>Result</th>\n",
              "      <th>TipsterActive</th>\n",
              "    </tr>\n",
              "  </thead>\n",
              "  <tbody>\n",
              "    <tr>\n",
              "      <th>0</th>\n",
              "      <td>1</td>\n",
              "      <td>1</td>\n",
              "      <td>Tipster A</td>\n",
              "      <td>24/07/2015</td>\n",
              "      <td>Ascot</td>\n",
              "      <td>Fredricka</td>\n",
              "      <td>Win</td>\n",
              "      <td>8.00</td>\n",
              "      <td>Lose</td>\n",
              "      <td>True</td>\n",
              "    </tr>\n",
              "    <tr>\n",
              "      <th>1</th>\n",
              "      <td>2</td>\n",
              "      <td>2</td>\n",
              "      <td>Tipster A</td>\n",
              "      <td>24/07/2015</td>\n",
              "      <td>Thirsk</td>\n",
              "      <td>Spend A Penny</td>\n",
              "      <td>Win</td>\n",
              "      <td>4.50</td>\n",
              "      <td>Lose</td>\n",
              "      <td>True</td>\n",
              "    </tr>\n",
              "    <tr>\n",
              "      <th>2</th>\n",
              "      <td>3</td>\n",
              "      <td>3</td>\n",
              "      <td>Tipster A</td>\n",
              "      <td>24/07/2015</td>\n",
              "      <td>York</td>\n",
              "      <td>Straightothepoint</td>\n",
              "      <td>Win</td>\n",
              "      <td>7.00</td>\n",
              "      <td>Lose</td>\n",
              "      <td>True</td>\n",
              "    </tr>\n",
              "    <tr>\n",
              "      <th>3</th>\n",
              "      <td>4</td>\n",
              "      <td>4</td>\n",
              "      <td>Tipster A</td>\n",
              "      <td>24/07/2015</td>\n",
              "      <td>Newmarket</td>\n",
              "      <td>Miss Inga Sock</td>\n",
              "      <td>Win</td>\n",
              "      <td>5.00</td>\n",
              "      <td>Lose</td>\n",
              "      <td>True</td>\n",
              "    </tr>\n",
              "    <tr>\n",
              "      <th>4</th>\n",
              "      <td>5</td>\n",
              "      <td>5</td>\n",
              "      <td>Tipster A</td>\n",
              "      <td>25/07/2015</td>\n",
              "      <td>Ascot</td>\n",
              "      <td>Peril</td>\n",
              "      <td>Win</td>\n",
              "      <td>4.33</td>\n",
              "      <td>Win</td>\n",
              "      <td>True</td>\n",
              "    </tr>\n",
              "    <tr>\n",
              "      <th>...</th>\n",
              "      <td>...</td>\n",
              "      <td>...</td>\n",
              "      <td>...</td>\n",
              "      <td>...</td>\n",
              "      <td>...</td>\n",
              "      <td>...</td>\n",
              "      <td>...</td>\n",
              "      <td>...</td>\n",
              "      <td>...</td>\n",
              "      <td>...</td>\n",
              "    </tr>\n",
              "    <tr>\n",
              "      <th>38243</th>\n",
              "      <td>38244</td>\n",
              "      <td>605</td>\n",
              "      <td>Tipster E1</td>\n",
              "      <td>02/04/2016</td>\n",
              "      <td>Kempton</td>\n",
              "      <td>Solar Flair</td>\n",
              "      <td>Win</td>\n",
              "      <td>7.00</td>\n",
              "      <td>Lose</td>\n",
              "      <td>False</td>\n",
              "    </tr>\n",
              "    <tr>\n",
              "      <th>38244</th>\n",
              "      <td>38245</td>\n",
              "      <td>606</td>\n",
              "      <td>Tipster E1</td>\n",
              "      <td>02/04/2016</td>\n",
              "      <td>Doncaster</td>\n",
              "      <td>Express Himself</td>\n",
              "      <td>Each Way</td>\n",
              "      <td>12.00</td>\n",
              "      <td>Lose</td>\n",
              "      <td>False</td>\n",
              "    </tr>\n",
              "    <tr>\n",
              "      <th>38245</th>\n",
              "      <td>38246</td>\n",
              "      <td>607</td>\n",
              "      <td>Tipster E1</td>\n",
              "      <td>02/04/2016</td>\n",
              "      <td>Doncaster</td>\n",
              "      <td>Jack Dexter</td>\n",
              "      <td>Win</td>\n",
              "      <td>7.00</td>\n",
              "      <td>Lose</td>\n",
              "      <td>False</td>\n",
              "    </tr>\n",
              "    <tr>\n",
              "      <th>38246</th>\n",
              "      <td>38247</td>\n",
              "      <td>608</td>\n",
              "      <td>Tipster E1</td>\n",
              "      <td>02/04/2016</td>\n",
              "      <td>Kelso</td>\n",
              "      <td>Just Cameron</td>\n",
              "      <td>Win</td>\n",
              "      <td>4.33</td>\n",
              "      <td>Lose</td>\n",
              "      <td>False</td>\n",
              "    </tr>\n",
              "    <tr>\n",
              "      <th>38247</th>\n",
              "      <td>38248</td>\n",
              "      <td>609</td>\n",
              "      <td>Tipster E1</td>\n",
              "      <td>31/05/2016</td>\n",
              "      <td>Redcar</td>\n",
              "      <td>Dream Farr</td>\n",
              "      <td>Win</td>\n",
              "      <td>5.00</td>\n",
              "      <td>Lose</td>\n",
              "      <td>False</td>\n",
              "    </tr>\n",
              "  </tbody>\n",
              "</table>\n",
              "<p>38248 rows × 10 columns</p>\n",
              "</div>"
            ],
            "text/plain": [
              "         UID   ID     Tipster        Date      Track              Horse  \\\n",
              "0          1    1   Tipster A  24/07/2015      Ascot          Fredricka   \n",
              "1          2    2   Tipster A  24/07/2015     Thirsk      Spend A Penny   \n",
              "2          3    3   Tipster A  24/07/2015       York  Straightothepoint   \n",
              "3          4    4   Tipster A  24/07/2015  Newmarket     Miss Inga Sock   \n",
              "4          5    5   Tipster A  25/07/2015      Ascot              Peril   \n",
              "...      ...  ...         ...         ...        ...                ...   \n",
              "38243  38244  605  Tipster E1  02/04/2016    Kempton        Solar Flair   \n",
              "38244  38245  606  Tipster E1  02/04/2016  Doncaster    Express Himself   \n",
              "38245  38246  607  Tipster E1  02/04/2016  Doncaster        Jack Dexter   \n",
              "38246  38247  608  Tipster E1  02/04/2016      Kelso       Just Cameron   \n",
              "38247  38248  609  Tipster E1  31/05/2016     Redcar         Dream Farr   \n",
              "\n",
              "       Bet Type   Odds Result  TipsterActive  \n",
              "0           Win   8.00   Lose           True  \n",
              "1           Win   4.50   Lose           True  \n",
              "2           Win   7.00   Lose           True  \n",
              "3           Win   5.00   Lose           True  \n",
              "4           Win   4.33    Win           True  \n",
              "...         ...    ...    ...            ...  \n",
              "38243       Win   7.00   Lose          False  \n",
              "38244  Each Way  12.00   Lose          False  \n",
              "38245       Win   7.00   Lose          False  \n",
              "38246       Win   4.33   Lose          False  \n",
              "38247       Win   5.00   Lose          False  \n",
              "\n",
              "[38248 rows x 10 columns]"
            ]
          },
          "execution_count": 4,
          "metadata": {},
          "output_type": "execute_result"
        }
      ],
      "source": [
        "df"
      ]
    },
    {
      "cell_type": "code",
      "execution_count": 5,
      "metadata": {
        "colab": {
          "base_uri": "https://localhost:8080/"
        },
        "id": "aAQ3DPoVALRC",
        "outputId": "bb369c37-b4f0-4790-c19e-27243784921d"
      },
      "outputs": [
        {
          "name": "stdout",
          "output_type": "stream",
          "text": [
            "<class 'pandas.core.frame.DataFrame'>\n",
            "RangeIndex: 38248 entries, 0 to 38247\n",
            "Data columns (total 10 columns):\n",
            " #   Column         Non-Null Count  Dtype  \n",
            "---  ------         --------------  -----  \n",
            " 0   UID            38248 non-null  int64  \n",
            " 1   ID             38248 non-null  int64  \n",
            " 2   Tipster        38248 non-null  object \n",
            " 3   Date           38248 non-null  object \n",
            " 4   Track          38248 non-null  object \n",
            " 5   Horse          38248 non-null  object \n",
            " 6   Bet Type       38248 non-null  object \n",
            " 7   Odds           38248 non-null  float64\n",
            " 8   Result         38248 non-null  object \n",
            " 9   TipsterActive  38248 non-null  bool   \n",
            "dtypes: bool(1), float64(1), int64(2), object(6)\n",
            "memory usage: 2.7+ MB\n"
          ]
        }
      ],
      "source": [
        "df.info()"
      ]
    },
    {
      "cell_type": "code",
      "execution_count": 6,
      "metadata": {
        "colab": {
          "base_uri": "https://localhost:8080/",
          "height": 300
        },
        "id": "GZbtj47yALOJ",
        "outputId": "58c68a42-1dc8-42bd-c7ce-4303a6d50416"
      },
      "outputs": [
        {
          "data": {
            "text/html": [
              "<div>\n",
              "<style scoped>\n",
              "    .dataframe tbody tr th:only-of-type {\n",
              "        vertical-align: middle;\n",
              "    }\n",
              "\n",
              "    .dataframe tbody tr th {\n",
              "        vertical-align: top;\n",
              "    }\n",
              "\n",
              "    .dataframe thead th {\n",
              "        text-align: right;\n",
              "    }\n",
              "</style>\n",
              "<table border=\"1\" class=\"dataframe\">\n",
              "  <thead>\n",
              "    <tr style=\"text-align: right;\">\n",
              "      <th></th>\n",
              "      <th>UID</th>\n",
              "      <th>ID</th>\n",
              "      <th>Odds</th>\n",
              "    </tr>\n",
              "  </thead>\n",
              "  <tbody>\n",
              "    <tr>\n",
              "      <th>count</th>\n",
              "      <td>38248.000000</td>\n",
              "      <td>38248.000000</td>\n",
              "      <td>38248.000000</td>\n",
              "    </tr>\n",
              "    <tr>\n",
              "      <th>mean</th>\n",
              "      <td>19124.500000</td>\n",
              "      <td>1013.308251</td>\n",
              "      <td>10.994968</td>\n",
              "    </tr>\n",
              "    <tr>\n",
              "      <th>std</th>\n",
              "      <td>11041.390885</td>\n",
              "      <td>917.941098</td>\n",
              "      <td>11.004589</td>\n",
              "    </tr>\n",
              "    <tr>\n",
              "      <th>min</th>\n",
              "      <td>1.000000</td>\n",
              "      <td>1.000000</td>\n",
              "      <td>1.070000</td>\n",
              "    </tr>\n",
              "    <tr>\n",
              "      <th>25%</th>\n",
              "      <td>9562.750000</td>\n",
              "      <td>318.000000</td>\n",
              "      <td>5.000000</td>\n",
              "    </tr>\n",
              "    <tr>\n",
              "      <th>50%</th>\n",
              "      <td>19124.500000</td>\n",
              "      <td>749.000000</td>\n",
              "      <td>8.000000</td>\n",
              "    </tr>\n",
              "    <tr>\n",
              "      <th>75%</th>\n",
              "      <td>28686.250000</td>\n",
              "      <td>1419.000000</td>\n",
              "      <td>13.000000</td>\n",
              "    </tr>\n",
              "    <tr>\n",
              "      <th>max</th>\n",
              "      <td>38248.000000</td>\n",
              "      <td>4383.000000</td>\n",
              "      <td>407.000000</td>\n",
              "    </tr>\n",
              "  </tbody>\n",
              "</table>\n",
              "</div>"
            ],
            "text/plain": [
              "                UID            ID          Odds\n",
              "count  38248.000000  38248.000000  38248.000000\n",
              "mean   19124.500000   1013.308251     10.994968\n",
              "std    11041.390885    917.941098     11.004589\n",
              "min        1.000000      1.000000      1.070000\n",
              "25%     9562.750000    318.000000      5.000000\n",
              "50%    19124.500000    749.000000      8.000000\n",
              "75%    28686.250000   1419.000000     13.000000\n",
              "max    38248.000000   4383.000000    407.000000"
            ]
          },
          "execution_count": 6,
          "metadata": {},
          "output_type": "execute_result"
        }
      ],
      "source": [
        "df.describe()"
      ]
    },
    {
      "cell_type": "code",
      "execution_count": 7,
      "metadata": {
        "colab": {
          "base_uri": "https://localhost:8080/"
        },
        "id": "QPkRyDA-ALLZ",
        "outputId": "de0fc085-07a2-476a-c6ee-1f30562dbb00"
      },
      "outputs": [
        {
          "data": {
            "text/plain": [
              "UID              0\n",
              "ID               0\n",
              "Tipster          0\n",
              "Date             0\n",
              "Track            0\n",
              "Horse            0\n",
              "Bet Type         0\n",
              "Odds             0\n",
              "Result           0\n",
              "TipsterActive    0\n",
              "dtype: int64"
            ]
          },
          "execution_count": 7,
          "metadata": {},
          "output_type": "execute_result"
        }
      ],
      "source": [
        "df.isnull().sum()"
      ]
    },
    {
      "cell_type": "code",
      "execution_count": 8,
      "metadata": {
        "id": "-0tc0Z-1Bv18"
      },
      "outputs": [],
      "source": [
        "df1=df[['Tipster','Track','Horse','Bet Type','Odds','Result','TipsterActive']]"
      ]
    },
    {
      "cell_type": "code",
      "execution_count": 9,
      "metadata": {
        "colab": {
          "base_uri": "https://localhost:8080/"
        },
        "id": "A7m1o_qTBvzT",
        "outputId": "0a89062c-337c-4d0f-f544-0083f03d24f8"
      },
      "outputs": [
        {
          "name": "stderr",
          "output_type": "stream",
          "text": [
            "C:\\Users\\aryal\\AppData\\Local\\Temp\\ipykernel_17920\\1512441712.py:5: SettingWithCopyWarning: \n",
            "A value is trying to be set on a copy of a slice from a DataFrame.\n",
            "Try using .loc[row_indexer,col_indexer] = value instead\n",
            "\n",
            "See the caveats in the documentation: https://pandas.pydata.org/pandas-docs/stable/user_guide/indexing.html#returning-a-view-versus-a-copy\n",
            "  df2[c] = df2[c].fillna('N')\n",
            "C:\\Users\\aryal\\AppData\\Local\\Temp\\ipykernel_17920\\1512441712.py:8: SettingWithCopyWarning: \n",
            "A value is trying to be set on a copy of a slice from a DataFrame.\n",
            "Try using .loc[row_indexer,col_indexer] = value instead\n",
            "\n",
            "See the caveats in the documentation: https://pandas.pydata.org/pandas-docs/stable/user_guide/indexing.html#returning-a-view-versus-a-copy\n",
            "  df2[c] = lbl.transform(df2[c].values)\n",
            "C:\\Users\\aryal\\AppData\\Local\\Temp\\ipykernel_17920\\1512441712.py:5: SettingWithCopyWarning: \n",
            "A value is trying to be set on a copy of a slice from a DataFrame.\n",
            "Try using .loc[row_indexer,col_indexer] = value instead\n",
            "\n",
            "See the caveats in the documentation: https://pandas.pydata.org/pandas-docs/stable/user_guide/indexing.html#returning-a-view-versus-a-copy\n",
            "  df2[c] = df2[c].fillna('N')\n",
            "C:\\Users\\aryal\\AppData\\Local\\Temp\\ipykernel_17920\\1512441712.py:8: SettingWithCopyWarning: \n",
            "A value is trying to be set on a copy of a slice from a DataFrame.\n",
            "Try using .loc[row_indexer,col_indexer] = value instead\n",
            "\n",
            "See the caveats in the documentation: https://pandas.pydata.org/pandas-docs/stable/user_guide/indexing.html#returning-a-view-versus-a-copy\n",
            "  df2[c] = lbl.transform(df2[c].values)\n",
            "C:\\Users\\aryal\\AppData\\Local\\Temp\\ipykernel_17920\\1512441712.py:5: SettingWithCopyWarning: \n",
            "A value is trying to be set on a copy of a slice from a DataFrame.\n",
            "Try using .loc[row_indexer,col_indexer] = value instead\n",
            "\n",
            "See the caveats in the documentation: https://pandas.pydata.org/pandas-docs/stable/user_guide/indexing.html#returning-a-view-versus-a-copy\n",
            "  df2[c] = df2[c].fillna('N')\n",
            "C:\\Users\\aryal\\AppData\\Local\\Temp\\ipykernel_17920\\1512441712.py:8: SettingWithCopyWarning: \n",
            "A value is trying to be set on a copy of a slice from a DataFrame.\n",
            "Try using .loc[row_indexer,col_indexer] = value instead\n",
            "\n",
            "See the caveats in the documentation: https://pandas.pydata.org/pandas-docs/stable/user_guide/indexing.html#returning-a-view-versus-a-copy\n",
            "  df2[c] = lbl.transform(df2[c].values)\n",
            "C:\\Users\\aryal\\AppData\\Local\\Temp\\ipykernel_17920\\1512441712.py:5: SettingWithCopyWarning: \n",
            "A value is trying to be set on a copy of a slice from a DataFrame.\n",
            "Try using .loc[row_indexer,col_indexer] = value instead\n",
            "\n",
            "See the caveats in the documentation: https://pandas.pydata.org/pandas-docs/stable/user_guide/indexing.html#returning-a-view-versus-a-copy\n",
            "  df2[c] = df2[c].fillna('N')\n",
            "C:\\Users\\aryal\\AppData\\Local\\Temp\\ipykernel_17920\\1512441712.py:8: SettingWithCopyWarning: \n",
            "A value is trying to be set on a copy of a slice from a DataFrame.\n",
            "Try using .loc[row_indexer,col_indexer] = value instead\n",
            "\n",
            "See the caveats in the documentation: https://pandas.pydata.org/pandas-docs/stable/user_guide/indexing.html#returning-a-view-versus-a-copy\n",
            "  df2[c] = lbl.transform(df2[c].values)\n",
            "C:\\Users\\aryal\\AppData\\Local\\Temp\\ipykernel_17920\\1512441712.py:5: SettingWithCopyWarning: \n",
            "A value is trying to be set on a copy of a slice from a DataFrame.\n",
            "Try using .loc[row_indexer,col_indexer] = value instead\n",
            "\n",
            "See the caveats in the documentation: https://pandas.pydata.org/pandas-docs/stable/user_guide/indexing.html#returning-a-view-versus-a-copy\n",
            "  df2[c] = df2[c].fillna('N')\n",
            "C:\\Users\\aryal\\AppData\\Local\\Temp\\ipykernel_17920\\1512441712.py:8: SettingWithCopyWarning: \n",
            "A value is trying to be set on a copy of a slice from a DataFrame.\n",
            "Try using .loc[row_indexer,col_indexer] = value instead\n",
            "\n",
            "See the caveats in the documentation: https://pandas.pydata.org/pandas-docs/stable/user_guide/indexing.html#returning-a-view-versus-a-copy\n",
            "  df2[c] = lbl.transform(df2[c].values)\n"
          ]
        }
      ],
      "source": [
        "df2=df1\n",
        "from sklearn.preprocessing import LabelEncoder\n",
        "for c in df2.columns:\n",
        "    if df2[c].dtype=='object':\n",
        "        df2[c] = df2[c].fillna('N')\n",
        "        lbl = LabelEncoder()\n",
        "        lbl.fit(list(df2[c].values))\n",
        "        df2[c] = lbl.transform(df2[c].values)"
      ]
    },
    {
      "cell_type": "code",
      "execution_count": 10,
      "metadata": {
        "colab": {
          "base_uri": "https://localhost:8080/",
          "height": 424
        },
        "id": "PjFir_npBvws",
        "outputId": "e032d6df-6374-49f2-8c30-12862e38ea9b"
      },
      "outputs": [
        {
          "data": {
            "text/html": [
              "<div>\n",
              "<style scoped>\n",
              "    .dataframe tbody tr th:only-of-type {\n",
              "        vertical-align: middle;\n",
              "    }\n",
              "\n",
              "    .dataframe tbody tr th {\n",
              "        vertical-align: top;\n",
              "    }\n",
              "\n",
              "    .dataframe thead th {\n",
              "        text-align: right;\n",
              "    }\n",
              "</style>\n",
              "<table border=\"1\" class=\"dataframe\">\n",
              "  <thead>\n",
              "    <tr style=\"text-align: right;\">\n",
              "      <th></th>\n",
              "      <th>Tipster</th>\n",
              "      <th>Track</th>\n",
              "      <th>Horse</th>\n",
              "      <th>Bet Type</th>\n",
              "      <th>Odds</th>\n",
              "      <th>Result</th>\n",
              "      <th>TipsterActive</th>\n",
              "    </tr>\n",
              "  </thead>\n",
              "  <tbody>\n",
              "    <tr>\n",
              "      <th>0</th>\n",
              "      <td>0</td>\n",
              "      <td>2</td>\n",
              "      <td>5158</td>\n",
              "      <td>1</td>\n",
              "      <td>8.00</td>\n",
              "      <td>0</td>\n",
              "      <td>True</td>\n",
              "    </tr>\n",
              "    <tr>\n",
              "      <th>1</th>\n",
              "      <td>0</td>\n",
              "      <td>96</td>\n",
              "      <td>13108</td>\n",
              "      <td>1</td>\n",
              "      <td>4.50</td>\n",
              "      <td>0</td>\n",
              "      <td>True</td>\n",
              "    </tr>\n",
              "    <tr>\n",
              "      <th>2</th>\n",
              "      <td>0</td>\n",
              "      <td>114</td>\n",
              "      <td>13411</td>\n",
              "      <td>1</td>\n",
              "      <td>7.00</td>\n",
              "      <td>0</td>\n",
              "      <td>True</td>\n",
              "    </tr>\n",
              "    <tr>\n",
              "      <th>3</th>\n",
              "      <td>0</td>\n",
              "      <td>74</td>\n",
              "      <td>8976</td>\n",
              "      <td>1</td>\n",
              "      <td>5.00</td>\n",
              "      <td>0</td>\n",
              "      <td>True</td>\n",
              "    </tr>\n",
              "    <tr>\n",
              "      <th>4</th>\n",
              "      <td>0</td>\n",
              "      <td>2</td>\n",
              "      <td>10554</td>\n",
              "      <td>1</td>\n",
              "      <td>4.33</td>\n",
              "      <td>1</td>\n",
              "      <td>True</td>\n",
              "    </tr>\n",
              "    <tr>\n",
              "      <th>...</th>\n",
              "      <td>...</td>\n",
              "      <td>...</td>\n",
              "      <td>...</td>\n",
              "      <td>...</td>\n",
              "      <td>...</td>\n",
              "      <td>...</td>\n",
              "      <td>...</td>\n",
              "    </tr>\n",
              "    <tr>\n",
              "      <th>38243</th>\n",
              "      <td>9</td>\n",
              "      <td>54</td>\n",
              "      <td>12946</td>\n",
              "      <td>1</td>\n",
              "      <td>7.00</td>\n",
              "      <td>0</td>\n",
              "      <td>False</td>\n",
              "    </tr>\n",
              "    <tr>\n",
              "      <th>38244</th>\n",
              "      <td>9</td>\n",
              "      <td>26</td>\n",
              "      <td>4591</td>\n",
              "      <td>0</td>\n",
              "      <td>12.00</td>\n",
              "      <td>0</td>\n",
              "      <td>False</td>\n",
              "    </tr>\n",
              "    <tr>\n",
              "      <th>38245</th>\n",
              "      <td>9</td>\n",
              "      <td>26</td>\n",
              "      <td>6824</td>\n",
              "      <td>1</td>\n",
              "      <td>7.00</td>\n",
              "      <td>0</td>\n",
              "      <td>False</td>\n",
              "    </tr>\n",
              "    <tr>\n",
              "      <th>38246</th>\n",
              "      <td>9</td>\n",
              "      <td>53</td>\n",
              "      <td>7068</td>\n",
              "      <td>1</td>\n",
              "      <td>4.33</td>\n",
              "      <td>0</td>\n",
              "      <td>False</td>\n",
              "    </tr>\n",
              "    <tr>\n",
              "      <th>38247</th>\n",
              "      <td>9</td>\n",
              "      <td>82</td>\n",
              "      <td>4015</td>\n",
              "      <td>1</td>\n",
              "      <td>5.00</td>\n",
              "      <td>0</td>\n",
              "      <td>False</td>\n",
              "    </tr>\n",
              "  </tbody>\n",
              "</table>\n",
              "<p>38248 rows × 7 columns</p>\n",
              "</div>"
            ],
            "text/plain": [
              "       Tipster  Track  Horse  Bet Type   Odds  Result  TipsterActive\n",
              "0            0      2   5158         1   8.00       0           True\n",
              "1            0     96  13108         1   4.50       0           True\n",
              "2            0    114  13411         1   7.00       0           True\n",
              "3            0     74   8976         1   5.00       0           True\n",
              "4            0      2  10554         1   4.33       1           True\n",
              "...        ...    ...    ...       ...    ...     ...            ...\n",
              "38243        9     54  12946         1   7.00       0          False\n",
              "38244        9     26   4591         0  12.00       0          False\n",
              "38245        9     26   6824         1   7.00       0          False\n",
              "38246        9     53   7068         1   4.33       0          False\n",
              "38247        9     82   4015         1   5.00       0          False\n",
              "\n",
              "[38248 rows x 7 columns]"
            ]
          },
          "execution_count": 10,
          "metadata": {},
          "output_type": "execute_result"
        }
      ],
      "source": [
        "df2 = df1\n",
        "df1"
      ]
    },
    {
      "cell_type": "code",
      "execution_count": 11,
      "metadata": {
        "colab": {
          "base_uri": "https://localhost:8080/"
        },
        "id": "Idr0hUUk3iGg",
        "outputId": "e0bcd6ee-3421-4452-c5ec-b92c054103b7"
      },
      "outputs": [
        {
          "name": "stdout",
          "output_type": "stream",
          "text": [
            "   Tipster  Track  Horse  Bet Type  Odds  Result  TipsterActive\n",
            "0        0      2   5158         1  8.00       0              1\n",
            "1        0     96  13108         1  4.50       0              1\n",
            "2        0    114  13411         1  7.00       0              1\n",
            "3        0     74   8976         1  5.00       0              1\n",
            "4        0      2  10554         1  4.33       1              1\n"
          ]
        }
      ],
      "source": [
        "from sklearn.preprocessing import LabelEncoder\n",
        "\n",
        "# Create a copy of the DataFrame\n",
        "df_encoded = df1.copy()\n",
        "\n",
        "# Initialize LabelEncoder\n",
        "lbl = LabelEncoder()\n",
        "\n",
        "# Fill missing values with 'N'\n",
        "df_encoded['TipsterActive'] = df_encoded['TipsterActive']\n",
        "# Fit and transform the 'TipsterActive' column\n",
        "df_encoded['TipsterActive'] = lbl.fit_transform(df_encoded['TipsterActive'])\n",
        "\n",
        "# Display the encoded DataFrame\n",
        "print(df_encoded.head())\n"
      ]
    },
    {
      "cell_type": "code",
      "execution_count": 12,
      "metadata": {
        "id": "sGJFqf0PHbVr"
      },
      "outputs": [],
      "source": [
        "# Identify and removing outliers\n",
        "# Calculate Z-scores for each feature\n",
        "z_scores = stats.zscore(df_encoded)\n",
        "\n",
        "# Define threshold for Z-score\n",
        "threshold = 3\n",
        "\n",
        "# Filter out rows where any feature has a Z-score higher than the threshold\n",
        "df_encoded = df_encoded[(np.abs(z_scores) < threshold).all(axis=1)]"
      ]
    },
    {
      "cell_type": "code",
      "execution_count": 13,
      "metadata": {
        "colab": {
          "base_uri": "https://localhost:8080/",
          "height": 853
        },
        "id": "SeXjS4WZBvuE",
        "outputId": "2a360c3d-fd77-4068-bd05-da4bb1914f73"
      },
      "outputs": [
        {
          "data": {
            "image/png": "[encoded data removed]",
            "text/plain": [
              "<Figure size 1000x1000 with 9 Axes>"
            ]
          },
          "metadata": {},
          "output_type": "display_data"
        }
      ],
      "source": [
        "df_encoded.iloc[:,:].hist(figsize=(10,10))\n",
        "plt.show()"
      ]
    },
    {
      "cell_type": "code",
      "execution_count": 14,
      "metadata": {
        "colab": {
          "base_uri": "https://localhost:8080/",
          "height": 1000
        },
        "id": "X0VazHzbDbKF",
        "outputId": "e486e210-2869-4029-bdd1-7a5c80bd7727"
      },
      "outputs": [
        {
          "data": {
            "image/png": "[encoded data removed]",
            "text/plain": [
              "<Figure size 800x600 with 1 Axes>"
            ]
          },
          "metadata": {},
          "output_type": "display_data"
        },
        {
          "name": "stderr",
          "output_type": "stream",
          "text": [
            "C:\\Users\\aryal\\AppData\\Local\\Temp\\ipykernel_17920\\3090088935.py:12: FutureWarning: \n",
            "\n",
            "Passing `palette` without assigning `hue` is deprecated and will be removed in v0.14.0. Assign the `x` variable to `hue` and set `legend=False` for the same effect.\n",
            "\n",
            "  sns.boxplot(x='Result', y='Odds', data=df_encoded, palette='pastel')\n"
          ]
        },
        {
          "data": {
            "image/png": "[encoded data removed]",
            "text/plain": [
              "<Figure size 1000x600 with 1 Axes>"
            ]
          },
          "metadata": {},
          "output_type": "display_data"
        }
      ],
      "source": [
        "# Histogram of 'Odds'\n",
        "plt.figure(figsize=(8, 6))\n",
        "sns.histplot(df_encoded['Odds'], bins=20, kde=True, color='skyblue')\n",
        "plt.title('Distribution of Odds')\n",
        "plt.xlabel('Odds')\n",
        "plt.ylabel('Frequency')\n",
        "plt.grid(True)\n",
        "plt.show()\n",
        "\n",
        "# Boxplot of 'Odds' vs 'Result'\n",
        "plt.figure(figsize=(10, 6))\n",
        "sns.boxplot(x='Result', y='Odds', data=df_encoded, palette='pastel')\n",
        "plt.title('Odds vs Result')\n",
        "plt.xlabel('Result')\n",
        "plt.ylabel('Odds')\n",
        "plt.grid(True)\n",
        "plt.show()\n"
      ]
    },
    {
      "cell_type": "code",
      "execution_count": 15,
      "metadata": {
        "colab": {
          "base_uri": "https://localhost:8080/",
          "height": 699
        },
        "id": "50J0ndmrDlfy",
        "outputId": "c566860a-dffd-4348-e9b7-3645e59cf448"
      },
      "outputs": [
        {
          "data": {
            "image/png": "[encoded data removed]",
            "text/plain": [
              "<Figure size 1000x800 with 2 Axes>"
            ]
          },
          "metadata": {},
          "output_type": "display_data"
        }
      ],
      "source": [
        "corr_matrix = df_encoded.corr()\n",
        "\n",
        "# Plot the heatmap\n",
        "plt.figure(figsize=(10, 8))\n",
        "sns.heatmap(corr_matrix, annot=True, cmap='coolwarm', fmt=\".2f\", linewidths=0.5)\n",
        "plt.title('Correlation Heatmap')\n",
        "plt.show()"
      ]
    },
    {
      "cell_type": "code",
      "execution_count": 16,
      "metadata": {
        "id": "PSuV4fcMBvma"
      },
      "outputs": [],
      "source": [
        "# Define features (X) and target variable (y)\n",
        "X = df_encoded.drop(columns=['Result'])  # Features are all columns except 'Result'\n",
        "y = df_encoded['Result']  # Target variable is 'Result'\n"
      ]
    },
    {
      "cell_type": "code",
      "execution_count": 17,
      "metadata": {
        "colab": {
          "base_uri": "https://localhost:8080/"
        },
        "id": "SzLBx9J7Bvji",
        "outputId": "e0941ef0-22b9-4e72-edbe-aa368c402abb"
      },
      "outputs": [
        {
          "name": "stdout",
          "output_type": "stream",
          "text": [
            "Features (X):\n",
            "   Tipster  Track  Horse  Bet Type  Odds  TipsterActive\n",
            "0        0      2   5158         1  8.00              1\n",
            "1        0     96  13108         1  4.50              1\n",
            "2        0    114  13411         1  7.00              1\n",
            "3        0     74   8976         1  5.00              1\n",
            "4        0      2  10554         1  4.33              1\n",
            "\n",
            "Target Variable (y):\n",
            "0    0\n",
            "1    0\n",
            "2    0\n",
            "3    0\n",
            "4    1\n",
            "Name: Result, dtype: int32\n"
          ]
        }
      ],
      "source": [
        "# Display the first few rows of the features\n",
        "print(\"Features (X):\")\n",
        "print(X.head())\n",
        "\n",
        "# Display the first few rows of the target variable\n",
        "print(\"\\nTarget Variable (y):\")\n",
        "print(y.head())"
      ]
    },
    {
      "cell_type": "code",
      "execution_count": 18,
      "metadata": {
        "colab": {
          "base_uri": "https://localhost:8080/"
        },
        "id": "IzNWPmXpCgIe",
        "outputId": "e79d2421-2551-421f-b97c-43f2da3518ac"
      },
      "outputs": [
        {
          "name": "stdout",
          "output_type": "stream",
          "text": [
            "Training set shape: (26368, 6) (26368,)\n",
            "Testing set shape: (11301, 6) (11301,)\n"
          ]
        }
      ],
      "source": [
        "from sklearn.model_selection import train_test_split\n",
        "\n",
        "# Split the data into training and testing sets (80/20 split)\n",
        "X_train, X_test, y_train, y_test = train_test_split(X, y, test_size=0.3, random_state=42)\n",
        "\n",
        "# Print the shapes of the training and testing sets\n",
        "print(\"Training set shape:\", X_train.shape, y_train.shape)\n",
        "print(\"Testing set shape:\", X_test.shape, y_test.shape)\n"
      ]
    },
    {
      "cell_type": "code",
      "execution_count": 19,
      "metadata": {
        "id": "rSbIzrgd0e2O"
      },
      "outputs": [],
      "source": [
        "headers = X.columns"
      ]
    },
    {
      "cell_type": "code",
      "execution_count": 20,
      "metadata": {
        "colab": {
          "base_uri": "https://localhost:8080/",
          "height": 206
        },
        "id": "U4QpJiQtCgF6",
        "outputId": "9005565d-9b8c-4fad-fd00-30eb9d7740aa"
      },
      "outputs": [
        {
          "data": {
            "text/html": [
              "<div>\n",
              "<style scoped>\n",
              "    .dataframe tbody tr th:only-of-type {\n",
              "        vertical-align: middle;\n",
              "    }\n",
              "\n",
              "    .dataframe tbody tr th {\n",
              "        vertical-align: top;\n",
              "    }\n",
              "\n",
              "    .dataframe thead th {\n",
              "        text-align: right;\n",
              "    }\n",
              "</style>\n",
              "<table border=\"1\" class=\"dataframe\">\n",
              "  <thead>\n",
              "    <tr style=\"text-align: right;\">\n",
              "      <th></th>\n",
              "      <th>Tipster</th>\n",
              "      <th>Track</th>\n",
              "      <th>Horse</th>\n",
              "      <th>Bet Type</th>\n",
              "      <th>Odds</th>\n",
              "      <th>TipsterActive</th>\n",
              "    </tr>\n",
              "  </thead>\n",
              "  <tbody>\n",
              "    <tr>\n",
              "      <th>9940</th>\n",
              "      <td>14</td>\n",
              "      <td>74</td>\n",
              "      <td>15750</td>\n",
              "      <td>1</td>\n",
              "      <td>10.0</td>\n",
              "      <td>1</td>\n",
              "    </tr>\n",
              "    <tr>\n",
              "      <th>30556</th>\n",
              "      <td>1</td>\n",
              "      <td>59</td>\n",
              "      <td>10800</td>\n",
              "      <td>1</td>\n",
              "      <td>4.5</td>\n",
              "      <td>1</td>\n",
              "    </tr>\n",
              "    <tr>\n",
              "      <th>1204</th>\n",
              "      <td>0</td>\n",
              "      <td>19</td>\n",
              "      <td>4208</td>\n",
              "      <td>1</td>\n",
              "      <td>2.5</td>\n",
              "      <td>1</td>\n",
              "    </tr>\n",
              "    <tr>\n",
              "      <th>27482</th>\n",
              "      <td>28</td>\n",
              "      <td>113</td>\n",
              "      <td>1883</td>\n",
              "      <td>1</td>\n",
              "      <td>17.0</td>\n",
              "      <td>1</td>\n",
              "    </tr>\n",
              "    <tr>\n",
              "      <th>24959</th>\n",
              "      <td>28</td>\n",
              "      <td>2</td>\n",
              "      <td>10294</td>\n",
              "      <td>1</td>\n",
              "      <td>8.0</td>\n",
              "      <td>1</td>\n",
              "    </tr>\n",
              "  </tbody>\n",
              "</table>\n",
              "</div>"
            ],
            "text/plain": [
              "       Tipster  Track  Horse  Bet Type  Odds  TipsterActive\n",
              "9940        14     74  15750         1  10.0              1\n",
              "30556        1     59  10800         1   4.5              1\n",
              "1204         0     19   4208         1   2.5              1\n",
              "27482       28    113   1883         1  17.0              1\n",
              "24959       28      2  10294         1   8.0              1"
            ]
          },
          "execution_count": 20,
          "metadata": {},
          "output_type": "execute_result"
        }
      ],
      "source": [
        "from sklearn.preprocessing import StandardScaler\n",
        "\n",
        "# Initialize the StandardScaler\n",
        "scaler = StandardScaler()\n",
        "\n",
        "# Fit the scaler on the training data and transform both training and testing data\n",
        "X_train_scaled = scaler.fit_transform(X_train)\n",
        "X_test_scaled = scaler.transform(X_test)\n",
        "pd.DataFrame(X_train,columns=headers).head()"
      ]
    },
    {
      "cell_type": "code",
      "execution_count": 21,
      "metadata": {
        "colab": {
          "base_uri": "https://localhost:8080/"
        },
        "id": "SKsbktJ8CgDS",
        "outputId": "9294fcdf-965d-4d57-ae20-3b54af45d233"
      },
      "outputs": [
        {
          "data": {
            "text/plain": [
              "array([[-0.07427859,  0.46705287,  1.71411144,  0.49866042, -0.01241539,\n",
              "         0.71925013],\n",
              "       [-1.40212805,  0.03723922,  0.62876998,  0.49866042, -0.75798873,\n",
              "         0.71925013],\n",
              "       [-1.50427032, -1.10893054, -0.81659788,  0.49866042, -1.02910631,\n",
              "         0.71925013],\n",
              "       ...,\n",
              "       [-0.07427859, -1.19489327,  0.54281971, -2.00537271,  0.1231434 ,\n",
              "         0.71925013],\n",
              "       [-1.50427032,  0.95417502, -0.84290918, -2.00537271, -0.14797418,\n",
              "         0.71925013],\n",
              "       [ 0.538575  , -1.45278146,  0.60596685,  0.49866042, -0.75798873,\n",
              "         0.71925013]])"
            ]
          },
          "execution_count": 21,
          "metadata": {},
          "output_type": "execute_result"
        }
      ],
      "source": [
        "X_train_scaled"
      ]
    },
    {
      "cell_type": "code",
      "execution_count": 22,
      "metadata": {
        "colab": {
          "base_uri": "https://localhost:8080/"
        },
        "id": "dT5Sm5GwCgAm",
        "outputId": "fb1795a8-fa46-4cc0-d5aa-3255c365c852"
      },
      "outputs": [
        {
          "data": {
            "text/plain": [
              "array([[-1.09570125, -1.10893054, -1.18166727, -2.00537271,  0.25870219,\n",
              "        -1.3903369 ],\n",
              "       [ 1.25357086,  1.52725989,  0.69827569,  0.49866042, -0.41909176,\n",
              "        -1.3903369 ],\n",
              "       [-0.58498992,  0.72494107,  1.690212  , -2.00537271,  1.47873129,\n",
              "        -1.3903369 ],\n",
              "       ...,\n",
              "       [ 0.2321482 ,  0.23781892, -1.17574723, -2.00537271, -0.01241539,\n",
              "         0.71925013],\n",
              "       [-1.40212805,  0.61032409,  0.74432048,  0.49866042, -0.89354752,\n",
              "         0.71925013],\n",
              "       [-1.19784352,  0.40974438,  0.45226496,  0.49866042, -0.08019479,\n",
              "        -1.3903369 ]])"
            ]
          },
          "execution_count": 22,
          "metadata": {},
          "output_type": "execute_result"
        }
      ],
      "source": [
        "X_test_scaled"
      ]
    },
    {
      "cell_type": "code",
      "execution_count": 23,
      "metadata": {
        "colab": {
          "base_uri": "https://localhost:8080/"
        },
        "id": "YKhWh6Mp5Kyh",
        "outputId": "c22a3dc6-b354-4e44-b6a1-5f648f7e2278"
      },
      "outputs": [
        {
          "name": "stdout",
          "output_type": "stream",
          "text": [
            "79.71\n",
            "Accuracy: 0.7968321387487833\n"
          ]
        },
        {
          "name": "stderr",
          "output_type": "stream",
          "text": [
            "C:\\Users\\aryal\\AppData\\Local\\Packages\\PythonSoftwareFoundation.Python.3.12_qbz5n2kfra8p0\\LocalCache\\local-packages\\Python312\\site-packages\\sklearn\\linear_model\\_logistic.py:469: ConvergenceWarning: lbfgs failed to converge (status=1):\n",
            "STOP: TOTAL NO. of ITERATIONS REACHED LIMIT.\n",
            "\n",
            "Increase the number of iterations (max_iter) or scale the data as shown in:\n",
            "    https://scikit-learn.org/stable/modules/preprocessing.html\n",
            "Please also refer to the documentation for alternative solver options:\n",
            "    https://scikit-learn.org/stable/modules/linear_model.html#logistic-regression\n",
            "  n_iter_i = _check_optimize_result(\n"
          ]
        }
      ],
      "source": [
        "from sklearn.metrics import accuracy_score, precision_score, recall_score, f1_score\n",
        "from sklearn.linear_model import LogisticRegression\n",
        "\n",
        "model = LogisticRegression()\n",
        "model.fit(X_train, y_train)\n",
        "\n",
        "# 3. Make Predictions\n",
        "y_pred = model.predict(X_test)\n",
        "acc_log = round(model.score(X_train, y_train) * 100, 2)\n",
        "print(acc_log)\n",
        "# 4. Evaluate Model Performance\n",
        "accuracy = accuracy_score(y_test, y_pred)\n",
        "\n",
        "print(\"Accuracy:\", accuracy)"
      ]
    },
    {
      "cell_type": "code",
      "execution_count": 24,
      "metadata": {
        "colab": {
          "base_uri": "https://localhost:8080/"
        },
        "id": "Xf9fHbZ_FyK-",
        "outputId": "7c8652dd-38e3-4178-b6a2-05f30fc7fc5b"
      },
      "outputs": [
        {
          "name": "stdout",
          "output_type": "stream",
          "text": [
            "Decision Tree Accuracy: 0.6978143527121494\n"
          ]
        }
      ],
      "source": [
        "from sklearn.tree import DecisionTreeClassifier\n",
        "from sklearn.metrics import accuracy_score\n",
        "\n",
        "# Initialize the Decision Tree classifier\n",
        "dt_classifier = DecisionTreeClassifier(random_state=42)\n",
        "\n",
        "# Train the model on the training data\n",
        "dt_classifier.fit(X_train_scaled, y_train)\n",
        "\n",
        "# Make predictions on the testing data\n",
        "y_pred_dt = dt_classifier.predict(X_test_scaled)\n",
        "\n",
        "# Calculate accuracy\n",
        "accuracy_dt = accuracy_score(y_test, y_pred_dt)\n",
        "\n",
        "# Print accuracy\n",
        "print(\"Decision Tree Accuracy:\", accuracy_dt)\n",
        "\n"
      ]
    },
    {
      "cell_type": "code",
      "execution_count": 25,
      "metadata": {
        "colab": {
          "base_uri": "https://localhost:8080/"
        },
        "id": "kbrEM5YzFyGJ",
        "outputId": "e9c5e1b0-1218-4435-fe01-626a99e23d19"
      },
      "outputs": [
        {
          "name": "stdout",
          "output_type": "stream",
          "text": [
            "Random Forest Accuracy: 0.7747986903813822\n"
          ]
        }
      ],
      "source": [
        "from sklearn.ensemble import RandomForestClassifier\n",
        "\n",
        "# Initialize the Random Forest classifier\n",
        "rf_classifier = RandomForestClassifier(n_estimators=100, random_state=42)\n",
        "\n",
        "# Train the model on the training data\n",
        "rf_classifier.fit(X_train_scaled, y_train)\n",
        "\n",
        "# Make predictions on the testing data\n",
        "y_pred_rf = rf_classifier.predict(X_test_scaled)\n",
        "\n",
        "# Calculate accuracy\n",
        "accuracy_rf = accuracy_score(y_test, y_pred_rf)\n",
        "\n",
        "# Print accuracy\n",
        "print(\"Random Forest Accuracy:\", accuracy_rf)\n"
      ]
    },
    {
      "cell_type": "code",
      "execution_count": null,
      "metadata": {},
      "outputs": [],
      "source": []
    }
  ],
  "metadata": {
    "colab": {
      "provenance": []
    },
    "kernelspec": {
      "display_name": "Python 3",
      "name": "python3"
    },
    "language_info": {
      "codemirror_mode": {
        "name": "ipython",
        "version": 3
      },
      "file_extension": ".py",
      "mimetype": "text/x-python",
      "name": "python",
      "nbconvert_exporter": "python",
      "pygments_lexer": "ipython3",
      "version": "3.12.3"
    }
  },
  "nbformat": 4,
  "nbformat_minor": 0
}
